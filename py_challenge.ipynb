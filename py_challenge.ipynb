{
  "nbformat": 4,
  "nbformat_minor": 0,
  "metadata": {
    "colab": {
      "provenance": [],
      "authorship_tag": "ABX9TyMHFVFea9W9gzckPCJ8ETEi",
      "include_colab_link": true
    },
    "kernelspec": {
      "name": "python3",
      "display_name": "Python 3"
    },
    "language_info": {
      "name": "python"
    }
  },
  "cells": [
    {
      "cell_type": "markdown",
      "metadata": {
        "id": "view-in-github",
        "colab_type": "text"
      },
      "source": [
        "<a href=\"https://colab.research.google.com/github/Shabnamwahid/py-challenge-task/blob/main/py_challenge.ipynb\" target=\"_parent\"><img src=\"https://colab.research.google.com/assets/colab-badge.svg\" alt=\"Open In Colab\"/></a>"
      ]
    },
    {
      "cell_type": "code",
      "execution_count": null,
      "metadata": {
        "id": "rK-g7BWhkoNM"
      },
      "outputs": [],
      "source": []
    },
    {
      "cell_type": "markdown",
      "source": [
        "# python challenge task_1"
      ],
      "metadata": {
        "id": "fUoXlM5OlH2b"
      }
    },
    {
      "cell_type": "code",
      "source": [
        "print(\"Hello, World! Welcome to Python Programming. Let's start coding!\")\n",
        "print(\"Exited to learn coding\")"
      ],
      "metadata": {
        "colab": {
          "base_uri": "https://localhost:8080/"
        },
        "id": "OnaSY3m6lsUf",
        "outputId": "df70ab10-a3f6-4a0f-c495-cf26e7b72dc1"
      },
      "execution_count": null,
      "outputs": [
        {
          "output_type": "stream",
          "name": "stdout",
          "text": [
            "Hello, World! Welcome to Python Programming. Let's start coding!\n",
            "Exited to learn coding\n"
          ]
        }
      ]
    },
    {
      "cell_type": "markdown",
      "source": [
        "# python challenge task_2"
      ],
      "metadata": {
        "id": "wQCHNlEimVnV"
      }
    },
    {
      "cell_type": "code",
      "source": [
        "name = input(\"Enter your name: \")\n",
        "print(f\"🤖 Hello {name}! Welcome to AI-powered Python world. 🚀\")\n"
      ],
      "metadata": {
        "colab": {
          "base_uri": "https://localhost:8080/"
        },
        "id": "zB0v30AXmrGn",
        "outputId": "cf43460c-751f-42f0-c137-505c77b8b30f"
      },
      "execution_count": null,
      "outputs": [
        {
          "output_type": "stream",
          "name": "stdout",
          "text": [
            "Enter your name: honey bee\n",
            "🤖 Hello honey bee! Welcome to AI-powered Python world. 🚀\n"
          ]
        }
      ]
    },
    {
      "cell_type": "markdown",
      "source": [
        "# python challenge task_3"
      ],
      "metadata": {
        "id": "62ySB4WEm76l"
      }
    },
    {
      "cell_type": "code",
      "source": [
        "# Smart Calculator\n",
        "print(\"🔢 Welcome to Smart Calculator! 🚀\")\n",
        "\n",
        "# User input\n",
        "num1 = float(input(\"Enter first number: \"))\n",
        "num2 = float(input(\"Enter second number: \"))\n",
        "operation = input(\"Choose operation (+, -, *, /): \")\n",
        "\n",
        "# Perform calculation\n",
        "if operation == \"+\":\n",
        "    result = num1 + num2\n",
        "elif operation == \"-\":\n",
        "    result = num1 - num2\n",
        "elif operation == \"*\":\n",
        "    result = num1 * num2\n",
        "elif operation == \"/\":\n",
        "    if num2 != 0:\n",
        "        result = num1 / num2\n",
        "    else:\n",
        "        result = \"Error! Division by zero is not allowed.\"\n",
        "else:\n",
        "    result = \"Invalid operation!\"\n",
        "\n",
        "# Output result\n",
        "print(\"🧮 Result:\", result)"
      ],
      "metadata": {
        "colab": {
          "base_uri": "https://localhost:8080/"
        },
        "id": "tThXPM_DnAa2",
        "outputId": "c46fa224-fcc4-490e-9ee8-6139eb04a0a7"
      },
      "execution_count": null,
      "outputs": [
        {
          "output_type": "stream",
          "name": "stdout",
          "text": [
            "🔢 Welcome to Smart Calculator! 🚀\n",
            "Enter first number: 8\n",
            "Enter second number: 2\n",
            "Choose operation (+, -, *, /): -\n",
            "🧮 Result: 6.0\n"
          ]
        }
      ]
    }
  ]
}