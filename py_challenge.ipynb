{
  "nbformat": 4,
  "nbformat_minor": 0,
  "metadata": {
    "colab": {
      "provenance": [],
      "authorship_tag": "ABX9TyMTZkA95oWYZP39yTyz4kRa",
      "include_colab_link": true
    },
    "kernelspec": {
      "name": "python3",
      "display_name": "Python 3"
    },
    "language_info": {
      "name": "python"
    }
  },
  "cells": [
    {
      "cell_type": "markdown",
      "metadata": {
        "id": "view-in-github",
        "colab_type": "text"
      },
      "source": [
        "<a href=\"https://colab.research.google.com/github/Shabnamwahid/py-challenge-task/blob/main/py_challenge.ipynb\" target=\"_parent\"><img src=\"https://colab.research.google.com/assets/colab-badge.svg\" alt=\"Open In Colab\"/></a>"
      ]
    },
    {
      "cell_type": "code",
      "execution_count": null,
      "metadata": {
        "id": "rK-g7BWhkoNM"
      },
      "outputs": [],
      "source": []
    },
    {
      "cell_type": "markdown",
      "source": [
        "# python challenge task_1"
      ],
      "metadata": {
        "id": "fUoXlM5OlH2b"
      }
    },
    {
      "cell_type": "code",
      "source": [
        "print(\"Hello, World! Welcome to Python Programming. Let's start coding!\")\n",
        "print(\"Exited to learn coding\")"
      ],
      "metadata": {
        "colab": {
          "base_uri": "https://localhost:8080/"
        },
        "id": "OnaSY3m6lsUf",
        "outputId": "df70ab10-a3f6-4a0f-c495-cf26e7b72dc1"
      },
      "execution_count": null,
      "outputs": [
        {
          "output_type": "stream",
          "name": "stdout",
          "text": [
            "Hello, World! Welcome to Python Programming. Let's start coding!\n",
            "Exited to learn coding\n"
          ]
        }
      ]
    },
    {
      "cell_type": "markdown",
      "source": [
        "# python challenge task_2"
      ],
      "metadata": {
        "id": "wQCHNlEimVnV"
      }
    },
    {
      "cell_type": "code",
      "source": [
        "name = input(\"Enter your name: \")\n",
        "print(f\"🤖 Hello {name}! Welcome to AI-powered Python world. 🚀\")\n"
      ],
      "metadata": {
        "colab": {
          "base_uri": "https://localhost:8080/"
        },
        "id": "zB0v30AXmrGn",
        "outputId": "cf43460c-751f-42f0-c137-505c77b8b30f"
      },
      "execution_count": null,
      "outputs": [
        {
          "output_type": "stream",
          "name": "stdout",
          "text": [
            "Enter your name: honey bee\n",
            "🤖 Hello honey bee! Welcome to AI-powered Python world. 🚀\n"
          ]
        }
      ]
    },
    {
      "cell_type": "markdown",
      "source": [
        "# python challenge task_3"
      ],
      "metadata": {
        "id": "62ySB4WEm76l"
      }
    },
    {
      "cell_type": "code",
      "source": [
        "# Smart Calculator\n",
        "print(\"🔢 Welcome to Smart Calculator! 🚀\")\n",
        "\n",
        "# User input\n",
        "num1 = float(input(\"Enter first number: \"))\n",
        "num2 = float(input(\"Enter second number: \"))\n",
        "operation = input(\"Choose operation (+, -, *, /): \")\n",
        "\n",
        "# Perform calculation\n",
        "if operation == \"+\":\n",
        "    result = num1 + num2\n",
        "elif operation == \"-\":\n",
        "    result = num1 - num2\n",
        "elif operation == \"*\":\n",
        "    result = num1 * num2\n",
        "elif operation == \"/\":\n",
        "    if num2 != 0:\n",
        "        result = num1 / num2\n",
        "    else:\n",
        "        result = \"Error! Division by zero is not allowed.\"\n",
        "else:\n",
        "    result = \"Invalid operation!\"\n",
        "\n",
        "# Output result\n",
        "print(\"🧮 Result:\", result)"
      ],
      "metadata": {
        "colab": {
          "base_uri": "https://localhost:8080/"
        },
        "id": "tThXPM_DnAa2",
        "outputId": "c46fa224-fcc4-490e-9ee8-6139eb04a0a7"
      },
      "execution_count": null,
      "outputs": [
        {
          "output_type": "stream",
          "name": "stdout",
          "text": [
            "🔢 Welcome to Smart Calculator! 🚀\n",
            "Enter first number: 8\n",
            "Enter second number: 2\n",
            "Choose operation (+, -, *, /): -\n",
            "🧮 Result: 6.0\n"
          ]
        }
      ]
    },
    {
      "cell_type": "markdown",
      "source": [
        "# python challenge task_4"
      ],
      "metadata": {
        "id": "wqoSYhMvFkmw"
      }
    },
    {
      "cell_type": "code",
      "source": [
        "while True:  # Start a loop to allow multiple number checks\n",
        "    user_input = input(\"Enter a number (or type 'exit' to quit): \")  # Get user input\n",
        "\n",
        "    if user_input.lower() == 'exit':  # If user types 'exit', end the program\n",
        "        print(\"👋 Goodbye! Thanks for using the Even-Odd Checker.\")\n",
        "        break  # Exit the loop\n",
        "\n",
        "    if user_input.isdigit():  # Check if input is a valid number\n",
        "        number = int(user_input)  # Convert input to an integer\n",
        "        if number % 2 == 0:  # Check if the number is even\n",
        "            print(f\"🔢 {number} is an Even number.\")\n",
        "        else:  # If not even, it's odd\n",
        "            print(f\"🔢 {number} is an Odd number.\")\n",
        "    else:\n",
        "        print(\"❌ Invalid input! Please enter a valid number.\")  # Show error message for invalid input\n",
        "\n"
      ],
      "metadata": {
        "colab": {
          "base_uri": "https://localhost:8080/"
        },
        "id": "7haAtGWjFrhh",
        "outputId": "ef34d46c-f8fa-48c2-bca6-c3344790e74a"
      },
      "execution_count": null,
      "outputs": [
        {
          "output_type": "stream",
          "name": "stdout",
          "text": [
            "Enter a number (or type 'exit' to quit): 66\n",
            "🔢 66 is an Even number.\n",
            "Enter a number (or type 'exit' to quit): 55\n",
            "🔢 55 is an Odd number.\n",
            "Enter a number (or type 'exit' to quit): 39\n",
            "🔢 39 is an Odd number.\n",
            "Enter a number (or type 'exit' to quit): 98\n",
            "🔢 98 is an Even number.\n",
            "Enter a number (or type 'exit' to quit): exit\n",
            "👋 Goodbye! Thanks for using the Even-Odd Checker.\n"
          ]
        }
      ]
    },
    {
      "cell_type": "markdown",
      "source": [
        "# python challenge task_5"
      ],
      "metadata": {
        "id": "_pLrtJtuHN4u"
      }
    },
    {
      "cell_type": "code",
      "source": [
        "import random  # Import the random module\n",
        "\n",
        "random_number = random.randint(1, 100)  # Generate a random number between 1 and 100\n",
        "attempts = 7  # Maximum attempts allowed\n",
        "\n",
        "print(\"🎯 Welcome to the Number Guessing Game!\")  # Display welcome message\n",
        "print(\"Guess the number (between 1 and 100):\")  # Show instructions\n",
        "\n",
        "while attempts > 0:  # Loop until attempts are finished\n",
        "    try:\n",
        "        guess = int(input(\"Your guess: \"))  # Get user input and convert to integer\n",
        "\n",
        "        if guess < 1 or guess > 100:  # Check if number is out of range\n",
        "            print(\"❌ Please enter a number between 1 and 100.\")\n",
        "            continue  # Continue the loop\n",
        "\n",
        "        attempts -= 1  # Reduce attempts by 1\n",
        "\n",
        "        if guess == random_number:  # If guess is correct\n",
        "            print(\"🎉 Congratulations! You guessed the correct number.\")\n",
        "            break  # End the game\n",
        "        elif guess < random_number:  # If guess is too low\n",
        "            print(\"📉 Too low! Try again.\")\n",
        "        else:  # If guess is too high\n",
        "            print(\"📈 Too high! Try again.\")\n",
        "\n",
        "        print(f\"Attempts left: {attempts}\")  # Show remaining attempts\n",
        "\n",
        "    except ValueError:  # Handle invalid input (non-numeric values)\n",
        "        print(\"❌ Invalid input! Please enter a valid number.\")\n",
        "\n",
        "if attempts == 0:  # If all attempts are used\n",
        "    print(f\"❌ You've used all attempts! The correct number was {random_number}.\")\n"
      ],
      "metadata": {
        "colab": {
          "base_uri": "https://localhost:8080/"
        },
        "id": "imyTCP-yHSKX",
        "outputId": "92187b00-5a00-4473-b2d7-7e9981353867"
      },
      "execution_count": null,
      "outputs": [
        {
          "output_type": "stream",
          "name": "stdout",
          "text": [
            "🎯 Welcome to the Number Guessing Game!\n",
            "Guess the number (between 1 and 100):\n",
            "Your guess: 69\n",
            "📈 Too high! Try again.\n",
            "Attempts left: 6\n",
            "Your guess: 8\n",
            "📈 Too high! Try again.\n",
            "Attempts left: 5\n",
            "Your guess: 84\n",
            "📈 Too high! Try again.\n",
            "Attempts left: 4\n",
            "Your guess: 6\n",
            "📈 Too high! Try again.\n",
            "Attempts left: 3\n",
            "Your guess: 2\n",
            "🎉 Congratulations! You guessed the correct number.\n"
          ]
        }
      ]
    },
    {
      "cell_type": "markdown",
      "source": [
        "# Python challenge Task_6"
      ],
      "metadata": {
        "id": "Yq6jnwHiEMI3"
      }
    },
    {
      "cell_type": "code",
      "source": [
        "import random\n",
        "import string\n",
        "\n",
        "def generate_password(length, use_digits, use_special):\n",
        "    characters = string.ascii_letters  # A-Z, a-z\n",
        "    if use_digits:\n",
        "        characters += string.digits  # 0-9\n",
        "    if use_special:\n",
        "        characters += string.punctuation  # !@#$%^&* etc.\n",
        "\n",
        "    return ''.join(random.choice(characters) for _ in range(length))\n",
        "\n",
        "# 🔹 User Input\n",
        "length = int(input(\"Enter Password Length (6-32): \"))\n",
        "use_digits = input(\"Include Digits? (yes/no): \").strip().lower() == 'yes'\n",
        "use_special = input(\"Include Special Characters? (yes/no): \").strip().lower() == 'yes'\n",
        "\n",
        "# 🔹 Generate Password\n",
        "password = generate_password(length, use_digits, use_special)\n",
        "\n",
        "# 🔹 Show Output\n",
        "print(\"\\n🔐 Generated Password:\", password)\n",
        "\n"
      ],
      "metadata": {
        "colab": {
          "base_uri": "https://localhost:8080/"
        },
        "id": "wow5QaCMEV6k",
        "outputId": "36d14be6-f995-4183-e4b0-fe5f732e1580"
      },
      "execution_count": 2,
      "outputs": [
        {
          "output_type": "stream",
          "name": "stdout",
          "text": [
            "Enter Password Length (6-32): 8\n",
            "Include Digits? (yes/no): \n",
            "Include Special Characters? (yes/no): y\n",
            "\n",
            "🔐 Generated Password: stsxjlyA\n"
          ]
        }
      ]
    }
  ]
}